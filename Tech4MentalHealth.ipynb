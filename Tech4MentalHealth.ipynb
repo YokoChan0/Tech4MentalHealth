{
 "cells": [
  {
   "cell_type": "markdown",
   "id": "bae75964",
   "metadata": {},
   "source": [
    " ## ***Read and Understanding Dataset***"
   ]
  },
  {
   "cell_type": "code",
   "execution_count": 4,
   "id": "c2f72c81",
   "metadata": {},
   "outputs": [],
   "source": [
    "import pandas as pd"
   ]
  },
  {
   "cell_type": "code",
   "execution_count": 5,
   "id": "6ba3e72c",
   "metadata": {},
   "outputs": [
    {
     "name": "stdout",
     "output_type": "stream",
     "text": [
      "<class 'pandas.core.frame.DataFrame'>\n",
      "RangeIndex: 616 entries, 0 to 615\n",
      "Data columns (total 3 columns):\n",
      " #   Column  Non-Null Count  Dtype \n",
      "---  ------  --------------  ----- \n",
      " 0   ID      616 non-null    object\n",
      " 1   text    616 non-null    object\n",
      " 2   label   616 non-null    object\n",
      "dtypes: object(3)\n",
      "memory usage: 14.6+ KB\n"
     ]
    }
   ],
   "source": [
    "df_Train = pd.read_csv('Train.csv')\n",
    "df_Train.info()"
   ]
  },
  {
   "cell_type": "code",
   "execution_count": 6,
   "id": "16248109",
   "metadata": {},
   "outputs": [
    {
     "data": {
      "text/plain": [
       "Depression    352\n",
       "Alcohol       140\n",
       "Suicide        66\n",
       "Drugs          58\n",
       "Name: label, dtype: int64"
      ]
     },
     "execution_count": 6,
     "metadata": {},
     "output_type": "execute_result"
    }
   ],
   "source": [
    "df_Train.label.value_counts()"
   ]
  },
  {
   "cell_type": "markdown",
   "id": "c224ab7d",
   "metadata": {},
   "source": [
    "## ***********************Solving the problem of Imbalanced data***********************"
   ]
  },
  {
   "cell_type": "code",
   "execution_count": 7,
   "id": "50b42b61",
   "metadata": {},
   "outputs": [],
   "source": [
    "Depression_count, Alcohol_count, Suicide_count, Drugs_count = df_Train['label'].value_counts()\n",
    "\n",
    "Depression = df_Train[df_Train['label'] == 'Depression']\n",
    "Alcohol = df_Train[df_Train['label'] == 'Alcohol']\n",
    "Suicide = df_Train[df_Train['label'] == 'Suicide']\n",
    "Drugs = df_Train[df_Train['label'] == 'Drugs']"
   ]
  },
  {
   "cell_type": "markdown",
   "id": "2a4325af",
   "metadata": {},
   "source": [
    "### We try to over-sampling: Suicide, Drugs and Under-Sampling Depression"
   ]
  },
  {
   "cell_type": "code",
   "execution_count": 8,
   "id": "a4498c2e",
   "metadata": {},
   "outputs": [
    {
     "data": {
      "text/plain": [
       "Depression    140\n",
       "Alcohol       140\n",
       "Suicide       140\n",
       "Drugs         140\n",
       "Name: label, dtype: int64"
      ]
     },
     "execution_count": 8,
     "metadata": {},
     "output_type": "execute_result"
    }
   ],
   "source": [
    "Depression_under = Depression.sample(Alcohol_count)\n",
    "Suicide_under = Suicide.sample(Alcohol_count, replace=True)\n",
    "Drugs_under = Drugs.sample(Alcohol_count, replace=True)\n",
    "\n",
    "test1 = pd.concat([Depression_under, Alcohol], ignore_index=True, axis=0)\n",
    "test2 = pd.concat([test1, Suicide_under], ignore_index=True, axis=0)\n",
    "df_Train = pd.concat([test2, Drugs_under], ignore_index=True, axis=0)\n",
    "\n",
    "df_Train.label.value_counts()"
   ]
  },
  {
   "cell_type": "markdown",
   "id": "11e01098",
   "metadata": {},
   "source": [
    "## ***********************Data Preparation ***********************"
   ]
  },
  {
   "cell_type": "code",
   "execution_count": 9,
   "id": "8ad49a52",
   "metadata": {},
   "outputs": [],
   "source": [
    "x = df_Train['text'].values.astype('U')\n",
    "y = df_Train['label']"
   ]
  },
  {
   "cell_type": "code",
   "execution_count": 11,
   "id": "bbcc5d3f",
   "metadata": {},
   "outputs": [],
   "source": [
    "from sklearn.feature_extraction.text import TfidfVectorizer\n",
    "vectorizer = TfidfVectorizer()\n",
    "x = vectorizer.fit_transform(x)"
   ]
  },
  {
   "cell_type": "code",
   "execution_count": 12,
   "id": "9449ca7b",
   "metadata": {},
   "outputs": [
    {
     "name": "stdout",
     "output_type": "stream",
     "text": [
      "data  shape : (560, 599)\n",
      "label  shape : 560\n"
     ]
    }
   ],
   "source": [
    "print('data  shape :', x.shape)\n",
    "print('label  shape :', len(y))"
   ]
  },
  {
   "cell_type": "code",
   "execution_count": 15,
   "id": "b4496e79",
   "metadata": {},
   "outputs": [
    {
     "data": {
      "text/plain": [
       "(420, 599)"
      ]
     },
     "execution_count": 15,
     "metadata": {},
     "output_type": "execute_result"
    }
   ],
   "source": [
    "from sklearn.model_selection import train_test_split\n",
    "X_train, X_test, y_train, y_test = train_test_split(x, y, random_state=1)\n",
    "\n",
    "X_train.shape"
   ]
  },
  {
   "cell_type": "code",
   "execution_count": 16,
   "id": "de381e68",
   "metadata": {},
   "outputs": [
    {
     "data": {
      "text/plain": [
       "(140, 599)"
      ]
     },
     "execution_count": 16,
     "metadata": {},
     "output_type": "execute_result"
    }
   ],
   "source": [
    "X_test.shape"
   ]
  },
  {
   "cell_type": "markdown",
   "id": "fd18e907",
   "metadata": {},
   "source": [
    "## ***********************Training Data***********************"
   ]
  },
  {
   "cell_type": "code",
   "execution_count": 17,
   "id": "39f6c71d",
   "metadata": {},
   "outputs": [],
   "source": [
    "from sklearn.svm import SVC "
   ]
  },
  {
   "cell_type": "code",
   "execution_count": 18,
   "id": "5b3b7240",
   "metadata": {},
   "outputs": [
    {
     "data": {
      "text/plain": [
       "SVC()"
      ]
     },
     "execution_count": 18,
     "metadata": {},
     "output_type": "execute_result"
    }
   ],
   "source": [
    "svclassifier = SVC()\n",
    "svclassifier.fit(X_train, y_train)"
   ]
  },
  {
   "cell_type": "code",
   "execution_count": 19,
   "id": "8ac5cf83",
   "metadata": {},
   "outputs": [
    {
     "data": {
      "text/plain": [
       "array(['Alcohol', 'Depression', 'Drugs', 'Suicide'], dtype=object)"
      ]
     },
     "execution_count": 19,
     "metadata": {},
     "output_type": "execute_result"
    }
   ],
   "source": [
    "svclassifier.classes_"
   ]
  },
  {
   "cell_type": "code",
   "execution_count": 20,
   "id": "2c65c47f",
   "metadata": {},
   "outputs": [],
   "source": [
    "predict = svclassifier.predict(X_test)"
   ]
  },
  {
   "cell_type": "markdown",
   "id": "5480dd6b",
   "metadata": {},
   "source": [
    "## ***********************evaluation of the model***********************"
   ]
  },
  {
   "cell_type": "code",
   "execution_count": 21,
   "id": "c4ab69f1",
   "metadata": {},
   "outputs": [
    {
     "name": "stdout",
     "output_type": "stream",
     "text": [
      "[[26  3  2  2]\n",
      " [ 0 34  1  0]\n",
      " [ 0  1 31  0]\n",
      " [ 0  5  0 35]]\n",
      "              precision    recall  f1-score   support\n",
      "\n",
      "     Alcohol       1.00      0.79      0.88        33\n",
      "  Depression       0.79      0.97      0.87        35\n",
      "       Drugs       0.91      0.97      0.94        32\n",
      "     Suicide       0.95      0.88      0.91        40\n",
      "\n",
      "    accuracy                           0.90       140\n",
      "   macro avg       0.91      0.90      0.90       140\n",
      "weighted avg       0.91      0.90      0.90       140\n",
      "\n"
     ]
    }
   ],
   "source": [
    "from sklearn.metrics import classification_report, confusion_matrix  \n",
    "print(confusion_matrix(y_test, predict))  \n",
    "print(classification_report(y_test, predict)) "
   ]
  },
  {
   "cell_type": "markdown",
   "id": "5578ddf8",
   "metadata": {},
   "source": [
    "## ***********************Testing***********************"
   ]
  },
  {
   "cell_type": "code",
   "execution_count": 23,
   "id": "c174ba41",
   "metadata": {},
   "outputs": [],
   "source": [
    "data = pd.DataFrame({'ID': df_Train.ID[420:560],'Prediction': predict})\n",
    "\n",
    "l = ['Alcohol', 'Depression', 'Drugs', 'Suicide']"
   ]
  },
  {
   "cell_type": "code",
   "execution_count": 24,
   "id": "88523c33",
   "metadata": {},
   "outputs": [],
   "source": [
    "data['Prediction'] = data.Prediction.astype('category')\n",
    "\n",
    "Y = data.Prediction.cat.codes\n",
    "\n",
    "data['Prediction'] = Y"
   ]
  },
  {
   "cell_type": "code",
   "execution_count": null,
   "id": "758d640c",
   "metadata": {},
   "outputs": [],
   "source": [
    "from keras.utils import to_categorical"
   ]
  },
  {
   "cell_type": "code",
   "execution_count": null,
   "id": "5be48859",
   "metadata": {},
   "outputs": [],
   "source": []
  }
 ],
 "metadata": {
  "kernelspec": {
   "display_name": "Python 3 (ipykernel)",
   "language": "python",
   "name": "python3"
  },
  "language_info": {
   "codemirror_mode": {
    "name": "ipython",
    "version": 3
   },
   "file_extension": ".py",
   "mimetype": "text/x-python",
   "name": "python",
   "nbconvert_exporter": "python",
   "pygments_lexer": "ipython3",
   "version": "3.9.13"
  }
 },
 "nbformat": 4,
 "nbformat_minor": 5
}

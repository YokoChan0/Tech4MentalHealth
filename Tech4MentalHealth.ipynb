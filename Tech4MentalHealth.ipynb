{
 "cells": [
  {
   "cell_type": "markdown",
   "id": "5b93ebb7",
   "metadata": {},
   "source": [
    " ## ***Read and Understanding Dataset***"
   ]
  },
  {
   "cell_type": "code",
   "execution_count": 4,
   "id": "5bc67087",
   "metadata": {},
   "outputs": [],
   "source": [
    "import pandas as pd"
   ]
  },
  {
   "cell_type": "code",
   "execution_count": 5,
   "id": "0b7f95e6",
   "metadata": {},
   "outputs": [
    {
     "name": "stdout",
     "output_type": "stream",
     "text": [
      "<class 'pandas.core.frame.DataFrame'>\n",
      "RangeIndex: 616 entries, 0 to 615\n",
      "Data columns (total 3 columns):\n",
      " #   Column  Non-Null Count  Dtype \n",
      "---  ------  --------------  ----- \n",
      " 0   ID      616 non-null    object\n",
      " 1   text    616 non-null    object\n",
      " 2   label   616 non-null    object\n",
      "dtypes: object(3)\n",
      "memory usage: 14.6+ KB\n"
     ]
    }
   ],
   "source": [
    "df_Train = pd.read_csv('Train.csv')\n",
    "df_Train.info()"
   ]
  },
  {
   "cell_type": "code",
   "execution_count": 6,
   "id": "c7b3cd86",
   "metadata": {},
   "outputs": [
    {
     "data": {
      "text/plain": [
       "Depression    352\n",
       "Alcohol       140\n",
       "Suicide        66\n",
       "Drugs          58\n",
       "Name: label, dtype: int64"
      ]
     },
     "execution_count": 6,
     "metadata": {},
     "output_type": "execute_result"
    }
   ],
   "source": [
    "df_Train.label.value_counts()"
   ]
  },
  {
   "cell_type": "markdown",
   "id": "84b54f5b",
   "metadata": {},
   "source": [
    "## ***********************Solving the problem of Imbalanced data***********************"
   ]
  },
  {
   "cell_type": "code",
   "execution_count": 7,
   "id": "2867a292",
   "metadata": {},
   "outputs": [],
   "source": [
    "Depression_count, Alcohol_count, Suicide_count, Drugs_count = df_Train['label'].value_counts()\n",
    "\n",
    "Depression = df_Train[df_Train['label'] == 'Depression']\n",
    "Alcohol = df_Train[df_Train['label'] == 'Alcohol']\n",
    "Suicide = df_Train[df_Train['label'] == 'Suicide']\n",
    "Drugs = df_Train[df_Train['label'] == 'Drugs']"
   ]
  },
  {
   "cell_type": "markdown",
   "id": "30f590f2",
   "metadata": {},
   "source": [
    "### We try to over-sampling: Suicide, Drugs and Under-Sampling Depression"
   ]
  },
  {
   "cell_type": "code",
   "execution_count": 8,
   "id": "4f9fc432",
   "metadata": {},
   "outputs": [
    {
     "data": {
      "text/plain": [
       "Depression    140\n",
       "Alcohol       140\n",
       "Suicide       140\n",
       "Drugs         140\n",
       "Name: label, dtype: int64"
      ]
     },
     "execution_count": 8,
     "metadata": {},
     "output_type": "execute_result"
    }
   ],
   "source": [
    "Depression_under = Depression.sample(Alcohol_count)\n",
    "Suicide_under = Suicide.sample(Alcohol_count, replace=True)\n",
    "Drugs_under = Drugs.sample(Alcohol_count, replace=True)\n",
    "\n",
    "test1 = pd.concat([Depression_under, Alcohol], ignore_index=True, axis=0)\n",
    "test2 = pd.concat([test1, Suicide_under], ignore_index=True, axis=0)\n",
    "df_Train = pd.concat([test2, Drugs_under], ignore_index=True, axis=0)\n",
    "\n",
    "df_Train.label.value_counts()"
   ]
  },
  {
   "cell_type": "markdown",
   "id": "15031271",
   "metadata": {},
   "source": [
    "## ***********************Data Preparation ***********************"
   ]
  },
  {
   "cell_type": "code",
   "execution_count": 9,
   "id": "87e4cf81",
   "metadata": {},
   "outputs": [],
   "source": [
    "x = df_Train['text'].values.astype('U')\n",
    "y = df_Train['label']"
   ]
  },
  {
   "cell_type": "code",
   "execution_count": 11,
   "id": "f2774f70",
   "metadata": {},
   "outputs": [],
   "source": [
    "from sklearn.feature_extraction.text import TfidfVectorizer\n",
    "vectorizer = TfidfVectorizer()\n",
    "x = vectorizer.fit_transform(x)"
   ]
  },
  {
   "cell_type": "code",
   "execution_count": 12,
   "id": "d064bb08",
   "metadata": {},
   "outputs": [
    {
     "name": "stdout",
     "output_type": "stream",
     "text": [
      "data  shape : (560, 599)\n",
      "label  shape : 560\n"
     ]
    }
   ],
   "source": [
    "print('data  shape :', x.shape)\n",
    "print('label  shape :', len(y))"
   ]
  },
  {
   "cell_type": "code",
   "execution_count": 15,
   "id": "01d671bd",
   "metadata": {},
   "outputs": [
    {
     "data": {
      "text/plain": [
       "(420, 599)"
      ]
     },
     "execution_count": 15,
     "metadata": {},
     "output_type": "execute_result"
    }
   ],
   "source": [
    "from sklearn.model_selection import train_test_split\n",
    "X_train, X_test, y_train, y_test = train_test_split(x, y, random_state=1)\n",
    "\n",
    "X_train.shape"
   ]
  },
  {
   "cell_type": "code",
   "execution_count": 16,
   "id": "3940dd5e",
   "metadata": {},
   "outputs": [
    {
     "data": {
      "text/plain": [
       "(140, 599)"
      ]
     },
     "execution_count": 16,
     "metadata": {},
     "output_type": "execute_result"
    }
   ],
   "source": [
    "X_test.shape"
   ]
  },
  {
   "cell_type": "markdown",
   "id": "f7bebaab",
   "metadata": {},
   "source": [
    "## ***********************Training Data***********************"
   ]
  },
  {
   "cell_type": "code",
   "execution_count": 17,
   "id": "6de6193f",
   "metadata": {},
   "outputs": [],
   "source": [
    "from sklearn.svm import SVC "
   ]
  },
  {
   "cell_type": "code",
   "execution_count": 18,
   "id": "e2860307",
   "metadata": {},
   "outputs": [
    {
     "data": {
      "text/plain": [
       "SVC()"
      ]
     },
     "execution_count": 18,
     "metadata": {},
     "output_type": "execute_result"
    }
   ],
   "source": [
    "svclassifier = SVC()\n",
    "svclassifier.fit(X_train, y_train)"
   ]
  },
  {
   "cell_type": "code",
   "execution_count": 19,
   "id": "20b9c38b",
   "metadata": {},
   "outputs": [
    {
     "data": {
      "text/plain": [
       "array(['Alcohol', 'Depression', 'Drugs', 'Suicide'], dtype=object)"
      ]
     },
     "execution_count": 19,
     "metadata": {},
     "output_type": "execute_result"
    }
   ],
   "source": [
    "svclassifier.classes_"
   ]
  },
  {
   "cell_type": "code",
   "execution_count": 20,
   "id": "786bba2b",
   "metadata": {},
   "outputs": [],
   "source": [
    "predict = svclassifier.predict(X_test)"
   ]
  },
  {
   "cell_type": "markdown",
   "id": "551b0acd",
   "metadata": {},
   "source": [
    "## ***********************evaluation of the model***********************"
   ]
  },
  {
   "cell_type": "code",
   "execution_count": 21,
   "id": "1e55f59f",
   "metadata": {},
   "outputs": [
    {
     "name": "stdout",
     "output_type": "stream",
     "text": [
      "[[26  3  2  2]\n",
      " [ 0 34  1  0]\n",
      " [ 0  1 31  0]\n",
      " [ 0  5  0 35]]\n",
      "              precision    recall  f1-score   support\n",
      "\n",
      "     Alcohol       1.00      0.79      0.88        33\n",
      "  Depression       0.79      0.97      0.87        35\n",
      "       Drugs       0.91      0.97      0.94        32\n",
      "     Suicide       0.95      0.88      0.91        40\n",
      "\n",
      "    accuracy                           0.90       140\n",
      "   macro avg       0.91      0.90      0.90       140\n",
      "weighted avg       0.91      0.90      0.90       140\n",
      "\n"
     ]
    }
   ],
   "source": [
    "from sklearn.metrics import classification_report, confusion_matrix  \n",
    "print(confusion_matrix(y_test, predict))  \n",
    "print(classification_report(y_test, predict)) "
   ]
  },
  {
   "cell_type": "markdown",
   "id": "8bd8079e",
   "metadata": {},
   "source": [
    "## ***********************Testing***********************"
   ]
  },
  {
   "cell_type": "code",
   "execution_count": 23,
   "id": "8bbbcc72",
   "metadata": {},
   "outputs": [],
   "source": [
    "data = pd.DataFrame({'ID': df_Train.ID[420:560],'Prediction': predict})\n",
    "\n",
    "l = ['Alcohol', 'Depression', 'Drugs', 'Suicide']"
   ]
  },
  {
   "cell_type": "code",
   "execution_count": 24,
   "id": "33c1b674",
   "metadata": {},
   "outputs": [],
   "source": [
    "data['Prediction'] = data.Prediction.astype('category')\n",
    "\n",
    "Y = data.Prediction.cat.codes\n",
    "\n",
    "data['Prediction'] = Y"
   ]
  },
  {
   "cell_type": "code",
   "execution_count": 25,
   "id": "920c39c1",
   "metadata": {},
   "outputs": [],
   "source": [
    "from keras.utils import to_categorical"
   ]
  },
  {
   "cell_type": "code",
   "execution_count": 26,
   "id": "f8afe0bc",
   "metadata": {},
   "outputs": [
    {
     "name": "stdout",
     "output_type": "stream",
     "text": [
      "(140, 4)\n"
     ]
    }
   ],
   "source": [
    "Y = to_categorical(Y)\n",
    "print(Y.shape)"
   ]
  },
  {
   "cell_type": "code",
   "execution_count": 27,
   "id": "019a5a8b",
   "metadata": {},
   "outputs": [],
   "source": [
    "for i in range(len(l)):\n",
    "    data[l[i]] = Y[:,i]"
   ]
  },
  {
   "cell_type": "code",
   "execution_count": 28,
   "id": "47304248",
   "metadata": {},
   "outputs": [
    {
     "data": {
      "text/html": [
       "<div>\n",
       "<style scoped>\n",
       "    .dataframe tbody tr th:only-of-type {\n",
       "        vertical-align: middle;\n",
       "    }\n",
       "\n",
       "    .dataframe tbody tr th {\n",
       "        vertical-align: top;\n",
       "    }\n",
       "\n",
       "    .dataframe thead th {\n",
       "        text-align: right;\n",
       "    }\n",
       "</style>\n",
       "<table border=\"1\" class=\"dataframe\">\n",
       "  <thead>\n",
       "    <tr style=\"text-align: right;\">\n",
       "      <th></th>\n",
       "      <th>ID</th>\n",
       "      <th>Prediction</th>\n",
       "      <th>Alcohol</th>\n",
       "      <th>Depression</th>\n",
       "      <th>Drugs</th>\n",
       "      <th>Suicide</th>\n",
       "    </tr>\n",
       "  </thead>\n",
       "  <tbody>\n",
       "    <tr>\n",
       "      <th>420</th>\n",
       "      <td>7QCXEWFU</td>\n",
       "      <td>3</td>\n",
       "      <td>0.0</td>\n",
       "      <td>0.0</td>\n",
       "      <td>0.0</td>\n",
       "      <td>1.0</td>\n",
       "    </tr>\n",
       "    <tr>\n",
       "      <th>421</th>\n",
       "      <td>XDD8ATSC</td>\n",
       "      <td>2</td>\n",
       "      <td>0.0</td>\n",
       "      <td>0.0</td>\n",
       "      <td>1.0</td>\n",
       "      <td>0.0</td>\n",
       "    </tr>\n",
       "    <tr>\n",
       "      <th>422</th>\n",
       "      <td>93G4A70N</td>\n",
       "      <td>3</td>\n",
       "      <td>0.0</td>\n",
       "      <td>0.0</td>\n",
       "      <td>0.0</td>\n",
       "      <td>1.0</td>\n",
       "    </tr>\n",
       "    <tr>\n",
       "      <th>423</th>\n",
       "      <td>U4SGUGGM</td>\n",
       "      <td>2</td>\n",
       "      <td>0.0</td>\n",
       "      <td>0.0</td>\n",
       "      <td>1.0</td>\n",
       "      <td>0.0</td>\n",
       "    </tr>\n",
       "    <tr>\n",
       "      <th>424</th>\n",
       "      <td>VPIOXWS8</td>\n",
       "      <td>2</td>\n",
       "      <td>0.0</td>\n",
       "      <td>0.0</td>\n",
       "      <td>1.0</td>\n",
       "      <td>0.0</td>\n",
       "    </tr>\n",
       "  </tbody>\n",
       "</table>\n",
       "</div>"
      ],
      "text/plain": [
       "           ID  Prediction  Alcohol  Depression  Drugs  Suicide\n",
       "420  7QCXEWFU           3      0.0         0.0    0.0      1.0\n",
       "421  XDD8ATSC           2      0.0         0.0    1.0      0.0\n",
       "422  93G4A70N           3      0.0         0.0    0.0      1.0\n",
       "423  U4SGUGGM           2      0.0         0.0    1.0      0.0\n",
       "424  VPIOXWS8           2      0.0         0.0    1.0      0.0"
      ]
     },
     "execution_count": 28,
     "metadata": {},
     "output_type": "execute_result"
    }
   ],
   "source": [
    "data.head()"
   ]
  },
  {
   "cell_type": "code",
   "execution_count": null,
   "id": "b5098882",
   "metadata": {},
   "outputs": [],
   "source": []
  },
  {
   "cell_type": "code",
   "execution_count": null,
   "id": "93530d15",
   "metadata": {},
   "outputs": [],
   "source": []
  }
 ],
 "metadata": {
  "kernelspec": {
   "display_name": "Python 3 (ipykernel)",
   "language": "python",
   "name": "python3"
  },
  "language_info": {
   "codemirror_mode": {
    "name": "ipython",
    "version": 3
   },
   "file_extension": ".py",
   "mimetype": "text/x-python",
   "name": "python",
   "nbconvert_exporter": "python",
   "pygments_lexer": "ipython3",
   "version": "3.9.13"
  }
 },
 "nbformat": 4,
 "nbformat_minor": 5
}
